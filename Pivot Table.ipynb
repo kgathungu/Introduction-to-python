{
 "cells": [
  {
   "cell_type": "code",
   "execution_count": 1,
   "id": "3eef9066-7ec0-4f1a-9cc8-f69e31078083",
   "metadata": {},
   "outputs": [
    {
     "data": {
      "text/plain": [
       "['.git',\n",
       " '.ipynb_checkpoints',\n",
       " 'Adidas-Dashboard-START.xlsx',\n",
       " 'Advanced Pandas.ipynb',\n",
       " 'dataset',\n",
       " 'Friends.csv',\n",
       " 'Friends1.csv',\n",
       " 'Friends3.csv',\n",
       " 'Friends4.csv',\n",
       " 'gathungu pandas.ipynb',\n",
       " 'gathungunov.ipynb',\n",
       " 'gathungu_test.ipynb',\n",
       " 'house costs.xlsx',\n",
       " 'Introduction to pandas.ipynb',\n",
       " 'Introduction.ipynb',\n",
       " 'newcase.py',\n",
       " 'Pivot Table.ipynb',\n",
       " 'README.md',\n",
       " 'Titanic-Dataset.csv',\n",
       " 'titanic.csv',\n",
       " '~$house costs.xlsx']"
      ]
     },
     "execution_count": 1,
     "metadata": {},
     "output_type": "execute_result"
    }
   ],
   "source": [
    "import pandas as pd\n",
    "import os\n",
    "os.listdir()"
   ]
  },
  {
   "cell_type": "code",
   "execution_count": 4,
   "id": "29d22130-b8b2-4ec9-b3d5-c61f4bdbbd71",
   "metadata": {},
   "outputs": [
    {
     "data": {
      "text/html": [
       "<div>\n",
       "<style scoped>\n",
       "    .dataframe tbody tr th:only-of-type {\n",
       "        vertical-align: middle;\n",
       "    }\n",
       "\n",
       "    .dataframe tbody tr th {\n",
       "        vertical-align: top;\n",
       "    }\n",
       "\n",
       "    .dataframe thead th {\n",
       "        text-align: right;\n",
       "    }\n",
       "</style>\n",
       "<table border=\"1\" class=\"dataframe\">\n",
       "  <thead>\n",
       "    <tr style=\"text-align: right;\">\n",
       "      <th></th>\n",
       "      <th>Type</th>\n",
       "      <th>Specific Cost Item</th>\n",
       "      <th>Details</th>\n",
       "      <th>Amount</th>\n",
       "      <th>Task Details</th>\n",
       "    </tr>\n",
       "  </thead>\n",
       "  <tbody>\n",
       "    <tr>\n",
       "      <th>0</th>\n",
       "      <td>labour</td>\n",
       "      <td>Tree</td>\n",
       "      <td>Cut trees</td>\n",
       "      <td>3000</td>\n",
       "      <td>NaN</td>\n",
       "    </tr>\n",
       "    <tr>\n",
       "      <th>1</th>\n",
       "      <td>labour</td>\n",
       "      <td>Tree</td>\n",
       "      <td>cuting branches and removing the trunks</td>\n",
       "      <td>3500</td>\n",
       "      <td>NaN</td>\n",
       "    </tr>\n",
       "    <tr>\n",
       "      <th>2</th>\n",
       "      <td>labour</td>\n",
       "      <td>Tree</td>\n",
       "      <td>split trunks(kata kuni)</td>\n",
       "      <td>1000</td>\n",
       "      <td>split firewood</td>\n",
       "    </tr>\n",
       "    <tr>\n",
       "      <th>3</th>\n",
       "      <td>labour</td>\n",
       "      <td>Coop</td>\n",
       "      <td>Remove chicken coop and charcoal burning</td>\n",
       "      <td>3500</td>\n",
       "      <td>Finalize all tree related issues</td>\n",
       "    </tr>\n",
       "    <tr>\n",
       "      <th>4</th>\n",
       "      <td>Chalk</td>\n",
       "      <td>Foundation</td>\n",
       "      <td>for the trenches</td>\n",
       "      <td>400</td>\n",
       "      <td>Chalk</td>\n",
       "    </tr>\n",
       "  </tbody>\n",
       "</table>\n",
       "</div>"
      ],
      "text/plain": [
       "     Type Specific Cost Item                                   Details  \\\n",
       "0  labour               Tree                                 Cut trees   \n",
       "1  labour               Tree   cuting branches and removing the trunks   \n",
       "2  labour               Tree                   split trunks(kata kuni)   \n",
       "3  labour               Coop  Remove chicken coop and charcoal burning   \n",
       "4   Chalk         Foundation                          for the trenches   \n",
       "\n",
       "   Amount                      Task Details  \n",
       "0    3000                               NaN  \n",
       "1    3500                               NaN  \n",
       "2    1000                    split firewood  \n",
       "3    3500  Finalize all tree related issues  \n",
       "4     400                             Chalk  "
      ]
     },
     "execution_count": 4,
     "metadata": {},
     "output_type": "execute_result"
    }
   ],
   "source": [
    "df = pd.read_excel('house costs.xlsx',sheet_name = 'data')\n",
    "df.head()"
   ]
  },
  {
   "cell_type": "code",
   "execution_count": 20,
   "id": "67cd89a7-8498-4630-9b2a-93fdb078a6b5",
   "metadata": {},
   "outputs": [
    {
     "data": {
      "text/html": [
       "<div>\n",
       "<style scoped>\n",
       "    .dataframe tbody tr th:only-of-type {\n",
       "        vertical-align: middle;\n",
       "    }\n",
       "\n",
       "    .dataframe tbody tr th {\n",
       "        vertical-align: top;\n",
       "    }\n",
       "\n",
       "    .dataframe thead th {\n",
       "        text-align: right;\n",
       "    }\n",
       "</style>\n",
       "<table border=\"1\" class=\"dataframe\">\n",
       "  <thead>\n",
       "    <tr style=\"text-align: right;\">\n",
       "      <th></th>\n",
       "      <th>Specific Cost Item</th>\n",
       "      <th>Amount</th>\n",
       "    </tr>\n",
       "  </thead>\n",
       "  <tbody>\n",
       "    <tr>\n",
       "      <th>0</th>\n",
       "      <td>Additional Metal</td>\n",
       "      <td>4000</td>\n",
       "    </tr>\n",
       "    <tr>\n",
       "      <th>1</th>\n",
       "      <td>Ceiling</td>\n",
       "      <td>24100</td>\n",
       "    </tr>\n",
       "    <tr>\n",
       "      <th>2</th>\n",
       "      <td>Coop</td>\n",
       "      <td>3500</td>\n",
       "    </tr>\n",
       "  </tbody>\n",
       "</table>\n",
       "</div>"
      ],
      "text/plain": [
       "  Specific Cost Item  Amount\n",
       "0   Additional Metal    4000\n",
       "1            Ceiling   24100\n",
       "2               Coop    3500"
      ]
     },
     "execution_count": 20,
     "metadata": {},
     "output_type": "execute_result"
    }
   ],
   "source": [
    "y = df.groupby(['Specific Cost Item'])['Amount'].agg('sum').reset_index()\n",
    "#y.plot(kind = 'bar')\n",
    "y.head(3)"
   ]
  },
  {
   "cell_type": "code",
   "execution_count": 24,
   "id": "fb0f0383-3afb-4f09-bc72-59fa1d5a1c42",
   "metadata": {},
   "outputs": [
    {
     "data": {
      "image/png": "[encoded data removed]",
      "text/plain": [
       "<Figure size 500x500 with 1 Axes>"
      ]
     },
     "metadata": {},
     "output_type": "display_data"
    }
   ],
   "source": [
    "import matplotlib.pyplot as plt\n",
    "y = y.sort_values('Amount',ascending = False)\n",
    "plt.figure(figsize = (5,5))\n",
    "plt.bar(y['Specific Cost Item'],y['Amount'],color = 'cyan')\n",
    "plt.xticks(rotation=90)\n",
    "plt.title('Amounts of costs')\n",
    "plt.show()"
   ]
  },
  {
   "cell_type": "code",
   "execution_count": 28,
   "id": "fffbfc7d-afb5-4fef-8083-7c0cf1e196da",
   "metadata": {},
   "outputs": [
    {
     "data": {
      "image/png": "[encoded data removed]",
      "text/plain": [
       "<Figure size 640x480 with 1 Axes>"
      ]
     },
     "metadata": {},
     "output_type": "display_data"
    }
   ],
   "source": [
    "#https://seaborn.pydata.org/generated/seaborn.set_theme.html\n",
    "import seaborn as sns\n",
    "sns.set_theme(style=\"whitegrid\", palette=\"pastel\")\n",
    "plt.Figure()\n",
    "sns.barplot(y,x = 'Specific Cost Item',y = 'Amount')\n",
    "plt.xticks(rotation=90)\n",
    "plt.title('Amounts of costs',color = 'red')\n",
    "plt.show()"
   ]
  },
  {
   "cell_type": "code",
   "execution_count": 31,
   "id": "8eec9a88-7e1f-4df7-b99b-a58b1c0648ff",
   "metadata": {},
   "outputs": [
    {
     "data": {
      "application/vnd.plotly.v1+json": {
       "config": {
        "plotlyServerURL": "https://plot.ly"
       },
       "data": [
        {
         "alignmentgroup": "True",
         "hovertemplate": "Specific Cost Item=%{x}<br>Amount=%{y}<extra></extra>",
         "legendgroup": "",
         "marker": {
          "color": "#1F77B4",
          "pattern": {
           "shape": ""
          }
         },
         "name": "",
         "offsetgroup": "",
         "orientation": "v",
         "showlegend": false,
         "textposition": "auto",
         "type": "bar",
         "x": [
          "interiors",
          "House Body",
          "Foundation",
          "Roof",
          "roof",
          "Windows and Doors",
          "Rental",
          "Interiors",
          "Electricals",
          "Ceiling",
          "Key",
          "Plumbing",
          "Tree",
          "Slab",
          "Flowers for the coridor rails",
          "Additional Metal",
          "Coop"
         ],
         "xaxis": "x",
         "y": [
          166540,
          153100,
          150100,
          96230,
          80490,
          67800,
          45070,
          35000,
          26300,
          24100,
          16800,
          13500,
          7500,
          7400,
          6600,
          4000,
          3500
         ],
         "yaxis": "y"
        }
       ],
       "layout": {
        "autosize": true,
        "barmode": "relative",
        "legend": {
         "tracegroupgap": 0
        },
        "template": {
         "data": {
          "scatter": [
           {
            "type": "scatter"
           }
          ]
         }
        },
        "title": {
         "text": "barplot"
        },
        "xaxis": {
         "anchor": "y",
         "autorange": true,
         "domain": [
          0,
          1
         ],
         "range": [
          -0.5,
          16.5
         ],
         "title": {
          "text": "Specific Cost Item"
         },
         "type": "category"
        },
        "yaxis": {
         "anchor": "x",
         "autorange": true,
         "domain": [
          0,
          1
         ],
         "range": [
          0,
          175305.26315789475
         ],
         "title": {
          "text": "Amount"
         },
         "type": "linear"
        }
       }
      },
      "image/png": "[encoded data removed]",
      "text/html": [
       "<div>                            <div id=\"5a660876-fe93-41be-b398-6d2fe6cb9bb7\" class=\"plotly-graph-div\" style=\"height:525px; width:100%;\"></div>            <script type=\"text/javascript\">                require([\"plotly\"], function(Plotly) {                    window.PLOTLYENV=window.PLOTLYENV || {};                                    if (document.getElementById(\"5a660876-fe93-41be-b398-6d2fe6cb9bb7\")) {                    Plotly.newPlot(                        \"5a660876-fe93-41be-b398-6d2fe6cb9bb7\",                        [{\"alignmentgroup\":\"True\",\"hovertemplate\":\"Specific Cost Item=%{x}\\u003cbr\\u003eAmount=%{y}\\u003cextra\\u003e\\u003c\\u002fextra\\u003e\",\"legendgroup\":\"\",\"marker\":{\"color\":\"#1F77B4\",\"pattern\":{\"shape\":\"\"}},\"name\":\"\",\"offsetgroup\":\"\",\"orientation\":\"v\",\"showlegend\":false,\"textposition\":\"auto\",\"x\":[\"interiors\",\"House Body\",\"Foundation\",\"Roof\",\"roof\",\"Windows and Doors\",\"Rental\",\"Interiors\",\"Electricals\",\"Ceiling\",\"Key\",\"Plumbing\",\"Tree\",\"Slab\",\"Flowers for the coridor rails\",\"Additional Metal\",\"Coop\"],\"xaxis\":\"x\",\"y\":[166540,153100,150100,96230,80490,67800,45070,35000,26300,24100,16800,13500,7500,7400,6600,4000,3500],\"yaxis\":\"y\",\"type\":\"bar\"}],                        {\"template\":{\"data\":{\"scatter\":[{\"type\":\"scatter\"}]}},\"xaxis\":{\"anchor\":\"y\",\"domain\":[0.0,1.0],\"title\":{\"text\":\"Specific Cost Item\"}},\"yaxis\":{\"anchor\":\"x\",\"domain\":[0.0,1.0],\"title\":{\"text\":\"Amount\"}},\"legend\":{\"tracegroupgap\":0},\"title\":{\"text\":\"barplot\"},\"barmode\":\"relative\"},                        {\"responsive\": true}                    ).then(function(){\n",
       "                            \n",
       "var gd = document.getElementById('5a660876-fe93-41be-b398-6d2fe6cb9bb7');\n",
       "var x = new MutationObserver(function (mutations, observer) {{\n",
       "        var display = window.getComputedStyle(gd).display;\n",
       "        if (!display || display === 'none') {{\n",
       "            console.log([gd, 'removed!']);\n",
       "            Plotly.purge(gd);\n",
       "            observer.disconnect();\n",
       "        }}\n",
       "}});\n",
       "\n",
       "// Listen for the removal of the full notebook cells\n",
       "var notebookContainer = gd.closest('#notebook-container');\n",
       "if (notebookContainer) {{\n",
       "    x.observe(notebookContainer, {childList: true});\n",
       "}}\n",
       "\n",
       "// Listen for the clearing of the current output cell\n",
       "var outputEl = gd.closest('.output');\n",
       "if (outputEl) {{\n",
       "    x.observe(outputEl, {childList: true});\n",
       "}}\n",
       "\n",
       "                        })                };                });            </script>        </div>"
      ]
     },
     "metadata": {},
     "output_type": "display_data"
    }
   ],
   "source": [
    "import plotly_express as px\n",
    "px.bar(y,x = 'Specific Cost Item',y = 'Amount',template = 'none',title = 'barplot')"
   ]
  },
  {
   "cell_type": "code",
   "execution_count": 33,
   "id": "57a7688e-a6f6-407f-a4c6-d6a0eb23b860",
   "metadata": {},
   "outputs": [
    {
     "data": {
      "text/html": [
       "<div>\n",
       "<style scoped>\n",
       "    .dataframe tbody tr th:only-of-type {\n",
       "        vertical-align: middle;\n",
       "    }\n",
       "\n",
       "    .dataframe tbody tr th {\n",
       "        vertical-align: top;\n",
       "    }\n",
       "\n",
       "    .dataframe thead th {\n",
       "        text-align: right;\n",
       "    }\n",
       "</style>\n",
       "<table border=\"1\" class=\"dataframe\">\n",
       "  <thead>\n",
       "    <tr style=\"text-align: right;\">\n",
       "      <th></th>\n",
       "      <th>Type</th>\n",
       "      <th>Specific Cost Item</th>\n",
       "      <th>Details</th>\n",
       "      <th>Amount</th>\n",
       "      <th>Task Details</th>\n",
       "    </tr>\n",
       "  </thead>\n",
       "  <tbody>\n",
       "    <tr>\n",
       "      <th>0</th>\n",
       "      <td>labour</td>\n",
       "      <td>Tree</td>\n",
       "      <td>Cut trees</td>\n",
       "      <td>3000</td>\n",
       "      <td>NaN</td>\n",
       "    </tr>\n",
       "    <tr>\n",
       "      <th>1</th>\n",
       "      <td>labour</td>\n",
       "      <td>Tree</td>\n",
       "      <td>cuting branches and removing the trunks</td>\n",
       "      <td>3500</td>\n",
       "      <td>NaN</td>\n",
       "    </tr>\n",
       "    <tr>\n",
       "      <th>2</th>\n",
       "      <td>labour</td>\n",
       "      <td>Tree</td>\n",
       "      <td>split trunks(kata kuni)</td>\n",
       "      <td>1000</td>\n",
       "      <td>split firewood</td>\n",
       "    </tr>\n",
       "    <tr>\n",
       "      <th>3</th>\n",
       "      <td>labour</td>\n",
       "      <td>Coop</td>\n",
       "      <td>Remove chicken coop and charcoal burning</td>\n",
       "      <td>3500</td>\n",
       "      <td>Finalize all tree related issues</td>\n",
       "    </tr>\n",
       "    <tr>\n",
       "      <th>4</th>\n",
       "      <td>Chalk</td>\n",
       "      <td>Foundation</td>\n",
       "      <td>for the trenches</td>\n",
       "      <td>400</td>\n",
       "      <td>Chalk</td>\n",
       "    </tr>\n",
       "  </tbody>\n",
       "</table>\n",
       "</div>"
      ],
      "text/plain": [
       "     Type Specific Cost Item                                   Details  \\\n",
       "0  labour               Tree                                 Cut trees   \n",
       "1  labour               Tree   cuting branches and removing the trunks   \n",
       "2  labour               Tree                   split trunks(kata kuni)   \n",
       "3  labour               Coop  Remove chicken coop and charcoal burning   \n",
       "4   Chalk         Foundation                          for the trenches   \n",
       "\n",
       "   Amount                      Task Details  \n",
       "0    3000                               NaN  \n",
       "1    3500                               NaN  \n",
       "2    1000                    split firewood  \n",
       "3    3500  Finalize all tree related issues  \n",
       "4     400                             Chalk  "
      ]
     },
     "execution_count": 33,
     "metadata": {},
     "output_type": "execute_result"
    }
   ],
   "source": [
    "# using pivot tables\n",
    "df.head()\n"
   ]
  },
  {
   "cell_type": "code",
   "execution_count": 40,
   "id": "7ed75c5f-3f83-4799-b4ce-8f8430e3ef0c",
   "metadata": {},
   "outputs": [
    {
     "data": {
      "text/plain": [
       "Specific Cost Item\n",
       "Type                             BallastBroomBucketsCeilingCementChalkDrainageG...\n",
       "Additional Metal                                                            4000.0\n",
       "Ceiling                                                                    24100.0\n",
       "Coop                                                                        3500.0\n",
       "Electricals                                                                26300.0\n",
       "Flowers for the coridor rails                                               6600.0\n",
       "Foundation                                                                150100.0\n",
       "House Body                                                                153100.0\n",
       "Interiors                                                                  35000.0\n",
       "Key                                                                        16800.0\n",
       "Plumbing                                                                   13500.0\n",
       "Rental                                                                     45070.0\n",
       "Roof                                                                       96230.0\n",
       "Slab                                                                        7400.0\n",
       "Tree                                                                        7500.0\n",
       "Windows and Doors                                                          67800.0\n",
       "interiors                                                                 166540.0\n",
       "roof                                                                       80490.0\n",
       "dtype: object"
      ]
     },
     "execution_count": 40,
     "metadata": {},
     "output_type": "execute_result"
    }
   ],
   "source": [
    "y = df.pivot_table(columns = 'Specific Cost Item',index = 'Type',values = 'Amount',aggfunc = 'sum').fillna(0)\n",
    "y.reset_index().sum(axis =0)"
   ]
  },
  {
   "cell_type": "code",
   "execution_count": 43,
   "id": "ee2530fb-dbcf-40ad-9583-10125539ca83",
   "metadata": {},
   "outputs": [
    {
     "data": {
      "text/html": [
       "<div>\n",
       "<style scoped>\n",
       "    .dataframe tbody tr th:only-of-type {\n",
       "        vertical-align: middle;\n",
       "    }\n",
       "\n",
       "    .dataframe tbody tr th {\n",
       "        vertical-align: top;\n",
       "    }\n",
       "\n",
       "    .dataframe thead th {\n",
       "        text-align: right;\n",
       "    }\n",
       "</style>\n",
       "<table border=\"1\" class=\"dataframe\">\n",
       "  <thead>\n",
       "    <tr style=\"text-align: right;\">\n",
       "      <th></th>\n",
       "      <th>Specific Cost Item</th>\n",
       "      <th>sum</th>\n",
       "      <th>count</th>\n",
       "      <th>mean</th>\n",
       "    </tr>\n",
       "  </thead>\n",
       "  <tbody>\n",
       "    <tr>\n",
       "      <th>0</th>\n",
       "      <td>Additional Metal</td>\n",
       "      <td>4000</td>\n",
       "      <td>1</td>\n",
       "      <td>4000.000000</td>\n",
       "    </tr>\n",
       "    <tr>\n",
       "      <th>1</th>\n",
       "      <td>Ceiling</td>\n",
       "      <td>24100</td>\n",
       "      <td>1</td>\n",
       "      <td>24100.000000</td>\n",
       "    </tr>\n",
       "    <tr>\n",
       "      <th>2</th>\n",
       "      <td>Coop</td>\n",
       "      <td>3500</td>\n",
       "      <td>1</td>\n",
       "      <td>3500.000000</td>\n",
       "    </tr>\n",
       "    <tr>\n",
       "      <th>3</th>\n",
       "      <td>Electricals</td>\n",
       "      <td>26300</td>\n",
       "      <td>6</td>\n",
       "      <td>4383.333333</td>\n",
       "    </tr>\n",
       "    <tr>\n",
       "      <th>4</th>\n",
       "      <td>Flowers for the coridor rails</td>\n",
       "      <td>6600</td>\n",
       "      <td>1</td>\n",
       "      <td>6600.000000</td>\n",
       "    </tr>\n",
       "    <tr>\n",
       "      <th>5</th>\n",
       "      <td>Foundation</td>\n",
       "      <td>150100</td>\n",
       "      <td>21</td>\n",
       "      <td>7147.619048</td>\n",
       "    </tr>\n",
       "    <tr>\n",
       "      <th>6</th>\n",
       "      <td>House Body</td>\n",
       "      <td>153100</td>\n",
       "      <td>18</td>\n",
       "      <td>8505.555556</td>\n",
       "    </tr>\n",
       "    <tr>\n",
       "      <th>7</th>\n",
       "      <td>Interiors</td>\n",
       "      <td>35000</td>\n",
       "      <td>6</td>\n",
       "      <td>5833.333333</td>\n",
       "    </tr>\n",
       "    <tr>\n",
       "      <th>8</th>\n",
       "      <td>Key</td>\n",
       "      <td>16800</td>\n",
       "      <td>3</td>\n",
       "      <td>5600.000000</td>\n",
       "    </tr>\n",
       "    <tr>\n",
       "      <th>9</th>\n",
       "      <td>Plumbing</td>\n",
       "      <td>13500</td>\n",
       "      <td>2</td>\n",
       "      <td>6750.000000</td>\n",
       "    </tr>\n",
       "    <tr>\n",
       "      <th>10</th>\n",
       "      <td>Rental</td>\n",
       "      <td>45070</td>\n",
       "      <td>11</td>\n",
       "      <td>4097.272727</td>\n",
       "    </tr>\n",
       "    <tr>\n",
       "      <th>11</th>\n",
       "      <td>Roof</td>\n",
       "      <td>96230</td>\n",
       "      <td>7</td>\n",
       "      <td>13747.142857</td>\n",
       "    </tr>\n",
       "    <tr>\n",
       "      <th>12</th>\n",
       "      <td>Slab</td>\n",
       "      <td>7400</td>\n",
       "      <td>2</td>\n",
       "      <td>3700.000000</td>\n",
       "    </tr>\n",
       "    <tr>\n",
       "      <th>13</th>\n",
       "      <td>Tree</td>\n",
       "      <td>7500</td>\n",
       "      <td>3</td>\n",
       "      <td>2500.000000</td>\n",
       "    </tr>\n",
       "    <tr>\n",
       "      <th>14</th>\n",
       "      <td>Windows and Doors</td>\n",
       "      <td>67800</td>\n",
       "      <td>7</td>\n",
       "      <td>9685.714286</td>\n",
       "    </tr>\n",
       "    <tr>\n",
       "      <th>15</th>\n",
       "      <td>interiors</td>\n",
       "      <td>166540</td>\n",
       "      <td>24</td>\n",
       "      <td>6939.166667</td>\n",
       "    </tr>\n",
       "    <tr>\n",
       "      <th>16</th>\n",
       "      <td>roof</td>\n",
       "      <td>80490</td>\n",
       "      <td>4</td>\n",
       "      <td>20122.500000</td>\n",
       "    </tr>\n",
       "  </tbody>\n",
       "</table>\n",
       "</div>"
      ],
      "text/plain": [
       "               Specific Cost Item     sum  count          mean\n",
       "0                Additional Metal    4000      1   4000.000000\n",
       "1                         Ceiling   24100      1  24100.000000\n",
       "2                            Coop    3500      1   3500.000000\n",
       "3                     Electricals   26300      6   4383.333333\n",
       "4   Flowers for the coridor rails    6600      1   6600.000000\n",
       "5                      Foundation  150100     21   7147.619048\n",
       "6                      House Body  153100     18   8505.555556\n",
       "7                       Interiors   35000      6   5833.333333\n",
       "8                             Key   16800      3   5600.000000\n",
       "9                        Plumbing   13500      2   6750.000000\n",
       "10                         Rental   45070     11   4097.272727\n",
       "11                           Roof   96230      7  13747.142857\n",
       "12                           Slab    7400      2   3700.000000\n",
       "13                           Tree    7500      3   2500.000000\n",
       "14              Windows and Doors   67800      7   9685.714286\n",
       "15                      interiors  166540     24   6939.166667\n",
       "16                           roof   80490      4  20122.500000"
      ]
     },
     "execution_count": 43,
     "metadata": {},
     "output_type": "execute_result"
    }
   ],
   "source": [
    "df.groupby(['Specific Cost Item'])['Amount'].agg(['sum','count','mean']).reset_index() # adding more functions"
   ]
  },
  {
   "cell_type": "code",
   "execution_count": 45,
   "id": "342e410e-3bde-4645-8369-5c3abca635d4",
   "metadata": {},
   "outputs": [],
   "source": [
    "# questions \n",
    "# assume you are the foreman - create a report to owner\n",
    "# 1. what are the main costs items\n",
    "# 2. summaries eg  - how much was the paint, how much was the labor.\n",
    "# 3. plot atleast 3 different graphs - give justification. pie chart, bar plot, lin e mploy etc"
   ]
  },
  {
   "cell_type": "code",
   "execution_count": 47,
   "id": "a5613a38-90c0-42c7-a1c9-ef91783bf203",
   "metadata": {},
   "outputs": [
    {
     "name": "stderr",
     "output_type": "stream",
     "text": [
      "warning: in the working copy of '.ipynb_checkpoints/Pivot Table-checkpoint.ipynb', LF will be replaced by CRLF the next time Git touches it\n",
      "warning: in the working copy of 'Pivot Table.ipynb', LF will be replaced by CRLF the next time Git touches it\n",
      "error: open(\"~$house costs.xlsx\"): Permission denied\n",
      "error: unable to index file '~$house costs.xlsx'\n",
      "fatal: adding files failed\n"
     ]
    },
    {
     "name": "stdout",
     "output_type": "stream",
     "text": [
      "On branch main\n",
      "Your branch is up to date with 'origin/main'.\n",
      "\n",
      "Untracked files:\n",
      "  (use \"git add <file>...\" to include in what will be committed)\n",
      "\t.ipynb_checkpoints/Pivot Table-checkpoint.ipynb\n",
      "\tPivot Table.ipynb\n",
      "\thouse costs.xlsx\n",
      "\t~$house costs.xlsx\n",
      "\n",
      "nothing added to commit but untracked files present (use \"git add\" to track)\n"
     ]
    },
    {
     "name": "stderr",
     "output_type": "stream",
     "text": [
      "Everything up-to-date\n"
     ]
    }
   ],
   "source": [
    "!git add .\n",
    "!git commit -m \"new pivot analysis\"\n",
    "!git push origin main"
   ]
  },
  {
   "cell_type": "code",
   "execution_count": 48,
   "id": "42bafde0-ac70-4690-b7c8-af3a9a90d516",
   "metadata": {},
   "outputs": [
    {
     "name": "stdout",
     "output_type": "stream",
     "text": [
      "Already up to date."
     ]
    },
    {
     "name": "stderr",
     "output_type": "stream",
     "text": [
      "From github.com:kgathungu/Introduction-to-python\n",
      " * branch            main       -> FETCH_HEAD\n"
     ]
    },
    {
     "name": "stdout",
     "output_type": "stream",
     "text": [
      "\n"
     ]
    }
   ],
   "source": [
    "!git pull origin main"
   ]
  },
  {
   "cell_type": "code",
   "execution_count": null,
   "id": "2bd73c5b-4dd7-4df5-99a1-fb8e37449015",
   "metadata": {},
   "outputs": [],
   "source": [
    "!git add .\n"
   ]
  }
 ],
 "metadata": {
  "kernelspec": {
   "display_name": "Python 3 (ipykernel)",
   "language": "python",
   "name": "python3"
  },
  "language_info": {
   "codemirror_mode": {
    "name": "ipython",
    "version": 3
   },
   "file_extension": ".py",
   "mimetype": "text/x-python",
   "name": "python",
   "nbconvert_exporter": "python",
   "pygments_lexer": "ipython3",
   "version": "3.11.4"
  }
 },
 "nbformat": 4,
 "nbformat_minor": 5
}
