{
 "cells": [
  {
   "cell_type": "code",
   "execution_count": null,
   "metadata": {},
   "outputs": [],
   "source": []
  },
  {
   "cell_type": "markdown",
   "metadata": {},
   "source": [
    "Revison on intro\n",
    " * data\n",
    " * functions \n",
    " * control\n",
    " \n"
   ]
  },
  {
   "cell_type": "code",
   "execution_count": null,
   "metadata": {},
   "outputs": [
    {
     "name": "stdout",
     "output_type": "stream",
     "text": [
      "3\n",
      "<class 'int'>\n"
     ]
    }
   ],
   "source": [
    "x=1\n",
    "y=2\n",
    "x+y\n",
    "print(x+y)\n",
    "print(type (x))"
   ]
  },
  {
   "cell_type": "code",
   "execution_count": null,
   "metadata": {},
   "outputs": [
    {
     "name": "stdout",
     "output_type": "stream",
     "text": [
      "29.200000000000003\n",
      "<class 'float'>\n"
     ]
    }
   ],
   "source": [
    "age=36.20\n",
    "#what was age 7 years ago\n",
    "#how:current age-age 7 years ago\n",
    "y=7\n",
    "age_7_years_ago=age-y\n",
    "print(age_7_years_ago)\n",
    "print(type(age_7_years_ago))"
   ]
  },
  {
   "cell_type": "code",
   "execution_count": null,
   "metadata": {},
   "outputs": [
    {
     "name": "stdout",
     "output_type": "stream",
     "text": [
      "him her\n",
      "<class 'str'>\n"
     ]
    }
   ],
   "source": [
    "first =\"him \"\n",
    "second =\"her\"\n",
    "full_name= first  + second \n",
    "print(full_name)\n",
    "print(type(full_name))"
   ]
  },
  {
   "cell_type": "code",
   "execution_count": null,
   "metadata": {},
   "outputs": [
    {
     "name": "stdout",
     "output_type": "stream",
     "text": [
      "hima hera\n"
     ]
    }
   ],
   "source": [
    "first_name=\"hima \"\n",
    "second_name=\"hera\"\n",
    "name=first_name+second_name\n",
    "print(name)\n",
    "\n"
   ]
  },
  {
   "cell_type": "code",
   "execution_count": null,
   "metadata": {},
   "outputs": [
    {
     "name": "stdout",
     "output_type": "stream",
     "text": [
      "True\n",
      "<class 'bool'>\n"
     ]
    }
   ],
   "source": [
    "x=9>8\n",
    "print(x)\n",
    "print(type(x))"
   ]
  },
  {
   "cell_type": "code",
   "execution_count": null,
   "metadata": {},
   "outputs": [
    {
     "name": "stdout",
     "output_type": "stream",
     "text": [
      "['paul', 'mwangi', 'njogu', 'jane']\n",
      "<class 'list'>\n"
     ]
    }
   ],
   "source": [
    "names=[\"paul\",\"mwangi\",\"njogu\",\"jane\"]\n",
    "print(names)\n",
    "print(type(names))"
   ]
  },
  {
   "cell_type": "code",
   "execution_count": null,
   "metadata": {},
   "outputs": [
    {
     "name": "stdout",
     "output_type": "stream",
     "text": [
      "{'name': 'hima', 'age': 36, 'friends': ['mary', 'gachogu']}\n",
      "<class 'dict'>\n",
      "dict_keys(['name', 'age', 'friends'])\n",
      "dict_values(['hima', 36, ['mary', 'gachogu']])\n"
     ]
    }
   ],
   "source": [
    "infor={\"name\":\"hima\",\"age\":36,\"friends\":[\"mary\",\"gachogu\"]}\n",
    "print(infor)\n",
    "print(type(infor))\n",
    "print(infor.keys())\n",
    "print(infor.values())"
   ]
  },
  {
   "cell_type": "markdown",
   "metadata": {},
   "source": [
    "# working with slicing and control flows"
   ]
  },
  {
   "cell_type": "markdown",
   "metadata": {},
   "source": [
    "# lists\n",
    "friends = [\"james\",\"kamau\",\"grace\",\"ann\",\"njogu\",\"njenga\",\"kiuna\",\"mwangi\",\"lucy\",\"mwai\"]\n",
    "len(friends)"
   ]
  },
  {
   "cell_type": "code",
   "execution_count": 2,
   "metadata": {},
   "outputs": [
    {
     "data": {
      "text/plain": [
       "'mwai'"
      ]
     },
     "execution_count": 2,
     "metadata": {},
     "output_type": "execute_result"
    }
   ],
   "source": [
    "# lists\n",
    "friends = [\"james\",\"kamau\",\"grace\",\"ann\",\"njogu\",\"njenga\",\"kiuna\",\"mwangi\",\"lucy\",\"mwai\"]\n",
    "len(friends)\n",
    "#indexing\n",
    "friends[-1]\n"
   ]
  },
  {
   "cell_type": "code",
   "execution_count": 3,
   "metadata": {},
   "outputs": [
    {
     "data": {
      "text/plain": [
       "['james', 'grace', 'njogu', 'kiuna', 'lucy']"
      ]
     },
     "execution_count": 3,
     "metadata": {},
     "output_type": "execute_result"
    }
   ],
   "source": [
    "# slicing\n",
    "friends[::2]"
   ]
  },
  {
   "cell_type": "code",
   "execution_count": 4,
   "metadata": {},
   "outputs": [
    {
     "data": {
      "text/plain": [
       "['kamau', 'ann', 'njenga', 'mwangi', 'mwai']"
      ]
     },
     "execution_count": 4,
     "metadata": {},
     "output_type": "execute_result"
    }
   ],
   "source": [
    "# slicing\n",
    "friends[1::2]"
   ]
  },
  {
   "cell_type": "code",
   "execution_count": 5,
   "metadata": {},
   "outputs": [
    {
     "data": {
      "text/plain": [
       "['james', 'ann', 'kiuna', 'mwai']"
      ]
     },
     "execution_count": 5,
     "metadata": {},
     "output_type": "execute_result"
    }
   ],
   "source": [
    "#slicing\n",
    "friends[::3]"
   ]
  },
  {
   "cell_type": "code",
   "execution_count": 6,
   "metadata": {},
   "outputs": [
    {
     "name": "stdout",
     "output_type": "stream",
     "text": [
      "['james', 'kamau', 'grace', 'ann', 'njogu', 'njenga', 'kiuna', 'mwangi', 'lucy', 'mwai']\n"
     ]
    }
   ],
   "source": [
    "print(friends)"
   ]
  },
  {
   "cell_type": "code",
   "execution_count": 7,
   "metadata": {},
   "outputs": [
    {
     "name": "stdout",
     "output_type": "stream",
     "text": [
      "['james', 'kamau', 'grace', 'ann', 'njogu', 'njenga', 'kiuna', 'mwangi', 'lucy', 'mwai', 'val']\n"
     ]
    }
   ],
   "source": [
    "# append/ add to the list\n",
    "friends.append(\"val\")\n",
    "print(friends)"
   ]
  },
  {
   "cell_type": "code",
   "execution_count": 8,
   "metadata": {},
   "outputs": [
    {
     "name": "stdout",
     "output_type": "stream",
     "text": [
      "{'maths': 100, 'geography': 78, 'history': 95}\n"
     ]
    }
   ],
   "source": [
    "# dictionaries\n",
    "marks={'maths':100,'geography':78,'history':95}\n",
    "print(marks)"
   ]
  },
  {
   "cell_type": "code",
   "execution_count": 9,
   "metadata": {},
   "outputs": [
    {
     "data": {
      "text/plain": [
       "100"
      ]
     },
     "execution_count": 9,
     "metadata": {},
     "output_type": "execute_result"
    }
   ],
   "source": [
    "#key to get value\n",
    "marks['maths']"
   ]
  },
  {
   "cell_type": "code",
   "execution_count": 10,
   "metadata": {},
   "outputs": [
    {
     "name": "stdout",
     "output_type": "stream",
     "text": [
      "{'maths': 100, 'geography': 78, 'history': 95, 'science': 80}\n"
     ]
    }
   ],
   "source": [
    "# add more infor\n",
    "marks['science']=80\n",
    "print(marks)"
   ]
  },
  {
   "cell_type": "code",
   "execution_count": 11,
   "metadata": {},
   "outputs": [
    {
     "name": "stdout",
     "output_type": "stream",
     "text": [
      "james\n",
      "kamau\n",
      "grace\n",
      "ann\n",
      "njogu\n",
      "njenga\n",
      "kiuna\n",
      "mwangi\n",
      "lucy\n",
      "mwai\n",
      "val\n"
     ]
    }
   ],
   "source": [
    "# loop\n",
    "for friend in friends:\n",
    "    print(friend) "
   ]
  },
  {
   "cell_type": "code",
   "execution_count": 12,
   "metadata": {},
   "outputs": [],
   "source": [
    "friends = [\"james:50\",\"kamau:30\",\"grace:20\",\"ann:23\",\"njogu:65\",\"njenga:90\",\"kiuna:80\",\"mwangi:50\",\"lucy:45\",\"mwai:19\"]"
   ]
  },
  {
   "cell_type": "code",
   "execution_count": 13,
   "metadata": {},
   "outputs": [],
   "source": [
    "# age in 10 years\n",
    "# current age + age_in_10_years\n"
   ]
  },
  {
   "cell_type": "code",
   "execution_count": 14,
   "metadata": {},
   "outputs": [
    {
     "name": "stdout",
     "output_type": "stream",
     "text": [
      "james:50\n",
      "kamau:30\n",
      "grace:20\n",
      "ann:23\n",
      "njogu:65\n",
      "njenga:90\n",
      "kiuna:80\n",
      "mwangi:50\n",
      "lucy:45\n",
      "mwai:19\n"
     ]
    }
   ],
   "source": [
    "for friend in friends:\n",
    "    print(friend)"
   ]
  },
  {
   "cell_type": "code",
   "execution_count": 15,
   "metadata": {},
   "outputs": [
    {
     "name": "stdout",
     "output_type": "stream",
     "text": [
      "['james:50', 'kamau:30', 'grace:20', 'ann:23', 'njogu:65', 'njenga:90', 'kiuna:80', 'mwangi:50', 'lucy:45', 'mwai:19']\n"
     ]
    }
   ],
   "source": [
    "print(friends)"
   ]
  },
  {
   "cell_type": "code",
   "execution_count": 16,
   "metadata": {},
   "outputs": [
    {
     "data": {
      "text/plain": [
       "['james:50',\n",
       " 'kamau:30',\n",
       " 'grace:20',\n",
       " 'ann:23',\n",
       " 'njogu:65',\n",
       " 'njenga:90',\n",
       " 'kiuna:80',\n",
       " 'mwangi:50']"
      ]
     },
     "execution_count": 16,
     "metadata": {},
     "output_type": "execute_result"
    }
   ],
   "source": [
    "friends[:-2]"
   ]
  },
  {
   "cell_type": "code",
   "execution_count": 5,
   "metadata": {},
   "outputs": [
    {
     "name": "stdout",
     "output_type": "stream",
     "text": [
      "Hallo Jack\n",
      "How do you do\n"
     ]
    }
   ],
   "source": [
    "def greet(name):\n",
    "    print(\"Hallo\", name)\n",
    "    print(\"How do you do\")\n",
    "\n",
    "greet(\"Jack\")\n"
   ]
  },
  {
   "cell_type": "code",
   "execution_count": 6,
   "metadata": {},
   "outputs": [
    {
     "name": "stdout",
     "output_type": "stream",
     "text": [
      "The sum is 12.100000000000001\n"
     ]
    }
   ],
   "source": [
    "def add_numbers(n1, n2):\n",
    "    result = n1 + n2\n",
    "    print(\"The sum is\", result)\n",
    "\n",
    "number1 = 5.4\n",
    "number2 = 6.7\n",
    "add_numbers(number1, number2)"
   ]
  },
  {
   "cell_type": "code",
   "execution_count": 9,
   "metadata": {},
   "outputs": [
    {
     "name": "stdout",
     "output_type": "stream",
     "text": [
      "The sum is 12.100000000000001\n"
     ]
    }
   ],
   "source": [
    "def add_numbers(n1,n2):\n",
    "    result = n1+n2\n",
    "    return result\n",
    "number1 = 5.4\n",
    "number2 = 6.7\n",
    "result = add_numbers(number1, number2)\n",
    "print(\"The sum is\", result)"
   ]
  },
  {
   "cell_type": "code",
   "execution_count": 6,
   "metadata": {},
   "outputs": [
    {
     "name": "stdout",
     "output_type": "stream",
     "text": [
      "Length is: 5\n"
     ]
    }
   ],
   "source": [
    "marks = [55,64,75,80,34]\n",
    "length=len(marks)\n",
    "print(\"Length is:\",length)"
   ]
  },
  {
   "cell_type": "code",
   "execution_count": 7,
   "metadata": {},
   "outputs": [
    {
     "name": "stdout",
     "output_type": "stream",
     "text": [
      "The total marks you got is: 308\n"
     ]
    }
   ],
   "source": [
    "marks_sum=sum(marks)\n",
    "print(\"The total marks you got is:\",marks_sum)"
   ]
  }
 ],
 "metadata": {
  "kernelspec": {
   "display_name": "Python-cQoGumpi",
   "language": "python",
   "name": "python3"
  },
  "language_info": {
   "codemirror_mode": {
    "name": "ipython",
    "version": 3
   },
   "file_extension": ".py",
   "mimetype": "text/x-python",
   "name": "python",
   "nbconvert_exporter": "python",
   "pygments_lexer": "ipython3",
   "version": "3.11.4"
  },
  "orig_nbformat": 4
 },
 "nbformat": 4,
 "nbformat_minor": 2
}
