{
 "cells": [
  {
   "cell_type": "code",
   "execution_count": null,
   "metadata": {},
   "outputs": [],
   "source": []
  },
  {
   "cell_type": "markdown",
   "metadata": {},
   "source": [
    "Revison on intro\n",
    " data\n",
    " functions \n",
    " control\n"
   ]
  },
  {
   "cell_type": "code",
   "execution_count": 15,
   "metadata": {},
   "outputs": [
    {
     "name": "stdout",
     "output_type": "stream",
     "text": [
      "3\n",
      "<class 'int'>\n"
     ]
    }
   ],
   "source": [
    "x=1\n",
    "y=2\n",
    "x+y\n",
    "print(x+y)\n",
    "print(type (x))"
   ]
  },
  {
   "cell_type": "code",
   "execution_count": 16,
   "metadata": {},
   "outputs": [
    {
     "name": "stdout",
     "output_type": "stream",
     "text": [
      "29.200000000000003\n",
      "<class 'float'>\n"
     ]
    }
   ],
   "source": [
    "age=36.20\n",
    "#what was age 7 years ago\n",
    "#how:current age-age 7 years ago\n",
    "y=7\n",
    "age_7_years_ago=age-y\n",
    "print(age_7_years_ago)\n",
    "print(type(age_7_years_ago))"
   ]
  },
  {
   "cell_type": "code",
   "execution_count": 21,
   "metadata": {},
   "outputs": [
    {
     "name": "stdout",
     "output_type": "stream",
     "text": [
      "him her\n",
      "<class 'str'>\n"
     ]
    }
   ],
   "source": [
    "first =\"him \"\n",
    "second =\"her\"\n",
    "full_name= first  + second \n",
    "print(full_name)\n",
    "print(type(full_name))"
   ]
  },
  {
   "cell_type": "code",
   "execution_count": 22,
   "metadata": {},
   "outputs": [
    {
     "name": "stdout",
     "output_type": "stream",
     "text": [
      "hima hera\n"
     ]
    }
   ],
   "source": [
    "first_name=\"hima \"\n",
    "second_name=\"hera\"\n",
    "name=first_name+second_name\n",
    "print(name)\n",
    "\n"
   ]
  },
  {
   "cell_type": "code",
   "execution_count": 25,
   "metadata": {},
   "outputs": [
    {
     "name": "stdout",
     "output_type": "stream",
     "text": [
      "True\n",
      "<class 'bool'>\n"
     ]
    }
   ],
   "source": [
    "x=9>8\n",
    "print(x)\n",
    "print(type(x))"
   ]
  },
  {
   "cell_type": "code",
   "execution_count": 27,
   "metadata": {},
   "outputs": [
    {
     "name": "stdout",
     "output_type": "stream",
     "text": [
      "['paul', 'mwangi', 'njogu', 'jane']\n",
      "<class 'list'>\n"
     ]
    }
   ],
   "source": [
    "names=[\"paul\",\"mwangi\",\"njogu\",\"jane\"]\n",
    "print(names)\n",
    "print(type(names))"
   ]
  },
  {
   "cell_type": "code",
   "execution_count": 31,
   "metadata": {},
   "outputs": [
    {
     "name": "stdout",
     "output_type": "stream",
     "text": [
      "{'name': 'hima', 'age': 36, 'friends': ['mary', 'gachogu']}\n",
      "<class 'dict'>\n",
      "dict_keys(['name', 'age', 'friends'])\n",
      "dict_values(['hima', 36, ['mary', 'gachogu']])\n"
     ]
    }
   ],
   "source": [
    "infor={\"name\":\"hima\",\"age\":36,\"friends\":[\"mary\",\"gachogu\"]}\n",
    "print(infor)\n",
    "print(type(infor))\n",
    "print(infor.keys())\n",
    "print(infor.values())"
   ]
  }
 ],
 "metadata": {
  "kernelspec": {
   "display_name": "Python-cQoGumpi",
   "language": "python",
   "name": "python3"
  },
  "language_info": {
   "codemirror_mode": {
    "name": "ipython",
    "version": 3
   },
   "file_extension": ".py",
   "mimetype": "text/x-python",
   "name": "python",
   "nbconvert_exporter": "python",
   "pygments_lexer": "ipython3",
   "version": "3.11.4"
  },
  "orig_nbformat": 4
 },
 "nbformat": 4,
 "nbformat_minor": 2
}
