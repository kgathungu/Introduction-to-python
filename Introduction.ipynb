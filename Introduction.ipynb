{
 "cells": [
  {
   "cell_type": "markdown",
   "metadata": {},
   "source": [
    "Introduction to python\n",
    "* data structure\n",
    "* functions\n",
    "* control flows"
   ]
  },
  {
   "cell_type": "code",
   "execution_count": 2,
   "metadata": {},
   "outputs": [
    {
     "name": "stdout",
     "output_type": "stream",
     "text": [
      "<class 'int'>\n"
     ]
    }
   ],
   "source": [
    "x=1\n",
    "y=2\n",
    "x+y\n",
    "#1 and 2 are integers\n",
    "print(type(x))"
   ]
  },
  {
   "cell_type": "code",
   "execution_count": 1,
   "metadata": {},
   "outputs": [
    {
     "name": "stdout",
     "output_type": "stream",
     "text": [
      "42.19\n",
      "<class 'float'>\n"
     ]
    }
   ],
   "source": [
    "age=36.19\n",
    "#how:current age + 6=age in 6 years\n",
    "y=6\n",
    "age_in_6_years=age+y\n",
    "print(age_in_6_years)\n",
    "#age is a floating point\n",
    "print(type(age_in_6_years))\n"
   ]
  },
  {
   "cell_type": "code",
   "execution_count": 2,
   "metadata": {},
   "outputs": [
    {
     "name": "stdout",
     "output_type": "stream",
     "text": [
      "gathungu karoki\n",
      "<class 'str'>\n"
     ]
    }
   ],
   "source": [
    "first=\"gathungu \"\n",
    "second=\"karoki\"\n",
    "full_name=first + second\n",
    "print(full_name)\n",
    "print(type(full_name))"
   ]
  },
  {
   "cell_type": "code",
   "execution_count": 3,
   "metadata": {},
   "outputs": [
    {
     "name": "stdout",
     "output_type": "stream",
     "text": [
      "False\n",
      "<class 'bool'>\n"
     ]
    }
   ],
   "source": [
    "x=4>5\n",
    "print(x)\n",
    "print(type(x))"
   ]
  },
  {
   "cell_type": "code",
   "execution_count": 4,
   "metadata": {},
   "outputs": [
    {
     "name": "stdout",
     "output_type": "stream",
     "text": [
      "['james', 'karoki', 'jane', 'john', 'peter']\n",
      "<class 'list'>\n"
     ]
    }
   ],
   "source": [
    "names=[\"james\",\"karoki\",\"jane\",\"john\",\"peter\"]\n",
    "print(names)\n",
    "print(type(names))"
   ]
  },
  {
   "cell_type": "code",
   "execution_count": 5,
   "metadata": {},
   "outputs": [
    {
     "name": "stdout",
     "output_type": "stream",
     "text": [
      "{'name': 'gathungu', 'age': 36, 'friends': ['john', 'alice']}\n",
      "<class 'dict'>\n",
      "dict_keys(['name', 'age', 'friends'])\n",
      "dict_values(['gathungu', 36, ['john', 'alice']])\n"
     ]
    }
   ],
   "source": [
    "infor={\"name\":\"gathungu\",\n",
    "       \"age\":36,\n",
    "       \"friends\":[\"john\",\"alice\"]}\n",
    "print(infor)\n",
    "print(type(infor))\n",
    "print(infor.keys())\n",
    "print(infor.values())\n"
   ]
  }
 ],
 "metadata": {
  "kernelspec": {
   "display_name": "Python 3",
   "language": "python",
   "name": "python3"
  },
  "language_info": {
   "codemirror_mode": {
    "name": "ipython",
    "version": 3
   },
   "file_extension": ".py",
   "mimetype": "text/x-python",
   "name": "python",
   "nbconvert_exporter": "python",
   "pygments_lexer": "ipython3",
   "version": "3.11.4"
  },
  "orig_nbformat": 4
 },
 "nbformat": 4,
 "nbformat_minor": 2
}
