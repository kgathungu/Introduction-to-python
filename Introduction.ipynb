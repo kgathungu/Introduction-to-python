{
 "cells": [
  {
   "cell_type": "markdown",
   "metadata": {},
   "source": [
    "Introduction to python\n",
    "* data structure\n",
    "* functions\n",
    "* control flows"
   ]
  },
  {
   "cell_type": "code",
   "execution_count": 2,
   "metadata": {},
   "outputs": [
    {
     "name": "stdout",
     "output_type": "stream",
     "text": [
      "<class 'int'>\n"
     ]
    }
   ],
   "source": [
    "x=1\n",
    "y=2\n",
    "x+y\n",
    "#1 and 2 are integers\n",
    "print(type(x))"
   ]
  },
  {
   "cell_type": "code",
   "execution_count": 1,
   "metadata": {},
   "outputs": [
    {
     "name": "stdout",
     "output_type": "stream",
     "text": [
      "42.19\n",
      "<class 'float'>\n"
     ]
    }
   ],
   "source": [
    "age=36.19\n",
    "#how:current age + 6=age in 6 years\n",
    "y=6\n",
    "age_in_6_years=age+y\n",
    "print(age_in_6_years)\n",
    "#age is a floating point\n",
    "print(type(age_in_6_years))\n"
   ]
  },
  {
   "cell_type": "code",
   "execution_count": 2,
   "metadata": {},
   "outputs": [
    {
     "name": "stdout",
     "output_type": "stream",
     "text": [
      "gathungu karoki\n",
      "<class 'str'>\n"
     ]
    }
   ],
   "source": [
    "first=\"gathungu \"\n",
    "second=\"karoki\"\n",
    "full_name=first + second\n",
    "print(full_name)\n",
    "print(type(full_name))"
   ]
  },
  {
   "cell_type": "code",
   "execution_count": 3,
   "metadata": {},
   "outputs": [
    {
     "name": "stdout",
     "output_type": "stream",
     "text": [
      "False\n",
      "<class 'bool'>\n"
     ]
    }
   ],
   "source": [
    "x=4>5\n",
    "print(x)\n",
    "print(type(x))"
   ]
  },
  {
   "cell_type": "code",
   "execution_count": 4,
   "metadata": {},
   "outputs": [
    {
     "name": "stdout",
     "output_type": "stream",
     "text": [
      "['james', 'karoki', 'jane', 'john', 'peter']\n",
      "<class 'list'>\n"
     ]
    }
   ],
   "source": [
    "names=[\"james\",\"karoki\",\"jane\",\"john\",\"peter\"]\n",
    "print(names)\n",
    "print(type(names))"
   ]
  },
  {
   "cell_type": "code",
   "execution_count": 5,
   "metadata": {},
   "outputs": [
    {
     "name": "stdout",
     "output_type": "stream",
     "text": [
      "{'name': 'gathungu', 'age': 36, 'friends': ['john', 'alice']}\n",
      "<class 'dict'>\n",
      "dict_keys(['name', 'age', 'friends'])\n",
      "dict_values(['gathungu', 36, ['john', 'alice']])\n"
     ]
    }
   ],
   "source": [
    "infor={\"name\":\"gathungu\",\n",
    "       \"age\":36,\n",
    "       \"friends\":[\"john\",\"alice\"]}\n",
    "print(infor)\n",
    "print(type(infor))\n",
    "print(infor.keys())\n",
    "print(infor.values())\n"
   ]
  },
  {
   "cell_type": "markdown",
   "metadata": {},
   "source": [
    "# <font color = \"red\"> Extracting data from the data structures</font>"
   ]
  },
  {
   "cell_type": "code",
   "execution_count": 2,
   "metadata": {},
   "outputs": [
    {
     "name": "stdout",
     "output_type": "stream",
     "text": [
      "yvonne amunga\n"
     ]
    }
   ],
   "source": [
    "name = \"yvonne amunga\" # extract data from strings,numbers etc by printing or calling\n",
    "print(name)\n"
   ]
  },
  {
   "cell_type": "code",
   "execution_count": 3,
   "metadata": {},
   "outputs": [
    {
     "data": {
      "text/plain": [
       "'yvonne amunga'"
      ]
     },
     "execution_count": 3,
     "metadata": {},
     "output_type": "execute_result"
    }
   ],
   "source": [
    "name"
   ]
  },
  {
   "cell_type": "code",
   "execution_count": 11,
   "metadata": {},
   "outputs": [
    {
     "data": {
      "text/plain": [
       "'peter'"
      ]
     },
     "execution_count": 11,
     "metadata": {},
     "output_type": "execute_result"
    }
   ],
   "source": [
    "# lists\n",
    "friends = ['john','jim',\"james\",\"karoki\",\"jane\",\"peter\"]\n",
    "# indexing\n",
    "len(friends)\n",
    "friends[3]\n",
    "# Negative index\n",
    "friends[-1]"
   ]
  },
  {
   "cell_type": "code",
   "execution_count": 10,
   "metadata": {},
   "outputs": [
    {
     "data": {
      "text/plain": [
       "['jane', 'peter']"
      ]
     },
     "execution_count": 10,
     "metadata": {},
     "output_type": "execute_result"
    }
   ],
   "source": [
    "# slicing\n",
    "friends[4:7]\n",
    "friends[4:]\n",
    "# assignment -   cretae several lists sand try indexing and slicing as much as syopu can "
   ]
  },
  {
   "cell_type": "code",
   "execution_count": 12,
   "metadata": {},
   "outputs": [
    {
     "data": {
      "text/plain": [
       "[23, 10, 21, 67]"
      ]
     },
     "execution_count": 12,
     "metadata": {},
     "output_type": "execute_result"
    }
   ],
   "source": [
    "# add lists \n",
    "[23,10] + [21 ,67]"
   ]
  },
  {
   "cell_type": "code",
   "execution_count": 13,
   "metadata": {},
   "outputs": [
    {
     "name": "stdout",
     "output_type": "stream",
     "text": [
      "['john', 'jim', 'james', 'karoki', 'jane', 'peter', 'grace']\n"
     ]
    }
   ],
   "source": [
    "# append or add to lists\n",
    "friends.append('grace')\n",
    "print(friends)"
   ]
  },
  {
   "cell_type": "code",
   "execution_count": 14,
   "metadata": {},
   "outputs": [
    {
     "name": "stdout",
     "output_type": "stream",
     "text": [
      "{'english': 98, 'maths': 12, 'science': 100}\n"
     ]
    }
   ],
   "source": [
    "# dictionaries\n",
    "marks = {'english':98,'maths':12,'science':100}\n",
    "print(marks)"
   ]
  },
  {
   "cell_type": "code",
   "execution_count": 17,
   "metadata": {},
   "outputs": [
    {
     "data": {
      "text/plain": [
       "12"
      ]
     },
     "execution_count": 17,
     "metadata": {},
     "output_type": "execute_result"
    }
   ],
   "source": [
    "# use the key to get tha value\n",
    "marks['maths']"
   ]
  },
  {
   "cell_type": "code",
   "execution_count": 16,
   "metadata": {},
   "outputs": [
    {
     "name": "stdout",
     "output_type": "stream",
     "text": [
      "{'english': 98, 'maths': 12, 'science': 100, 'Bio': 78}\n"
     ]
    }
   ],
   "source": [
    "# add more information to a dictionary\n",
    "marks['Bio'] = 78\n",
    "print(marks)"
   ]
  },
  {
   "cell_type": "code",
   "execution_count": 19,
   "metadata": {},
   "outputs": [],
   "source": [
    "# create dictionaries and lists\n",
    "# index and slice\n",
    "# append\n",
    "# add and get data from dictionaries"
   ]
  },
  {
   "cell_type": "code",
   "execution_count": 20,
   "metadata": {},
   "outputs": [
    {
     "name": "stdout",
     "output_type": "stream",
     "text": [
      "john\n",
      "jim\n",
      "james\n",
      "karoki\n",
      "jane\n",
      "peter\n",
      "grace\n"
     ]
    }
   ],
   "source": [
    "# for loop (control flows)\n",
    "for friend in friends:\n",
    "    print(friend)\n",
    "    "
   ]
  },
  {
   "cell_type": "code",
   "execution_count": null,
   "metadata": {},
   "outputs": [],
   "source": [
    "# create a list of your friends ages\n",
    "# for each friend print their age in 10 years\n",
    "# save it in anaother list\n",
    "#print the final list and slice the last 2"
   ]
  },
  {
   "cell_type": "code",
   "execution_count": 3,
   "metadata": {},
   "outputs": [
    {
     "name": "stdout",
     "output_type": "stream",
     "text": [
      "[33, 20, 64]\n"
     ]
    }
   ],
   "source": [
    "ages = [23,10,54]\n",
    "names = ['john','jim','kamau']\n",
    "\n",
    "empty = []\n",
    "for age in ages:\n",
    "    new_age = age+10\n",
    "    empty.append(new_age)\n",
    "print(empty)"
   ]
  },
  {
   "cell_type": "code",
   "execution_count": 4,
   "metadata": {},
   "outputs": [
    {
     "name": "stdout",
     "output_type": "stream",
     "text": [
      "john : 33\n",
      "jim : 20\n",
      "kamau : 64\n"
     ]
    }
   ],
   "source": [
    "# using a zip function\n",
    "for name,age in zip(names,ages):\n",
    "    print(name,\":\",age+10)"
   ]
  },
  {
   "cell_type": "code",
   "execution_count": 6,
   "metadata": {},
   "outputs": [
    {
     "name": "stdout",
     "output_type": "stream",
     "text": [
      "John\n",
      "alice\n",
      "edward\n"
     ]
    }
   ],
   "source": [
    "friends = {'John':10,'alice':34,'edward':40}\n",
    "\n",
    "for name in friends.keys():\n",
    "    print(name)\n",
    "    friends[name]+=10"
   ]
  },
  {
   "cell_type": "code",
   "execution_count": 7,
   "metadata": {},
   "outputs": [
    {
     "data": {
      "text/plain": [
       "{'John': 20, 'alice': 44, 'edward': 50}"
      ]
     },
     "execution_count": 7,
     "metadata": {},
     "output_type": "execute_result"
    }
   ],
   "source": [
    "friends"
   ]
  },
  {
   "cell_type": "code",
   "execution_count": null,
   "metadata": {},
   "outputs": [],
   "source": []
  },
  {
   "cell_type": "markdown",
   "metadata": {},
   "source": [
    "# Functions\n",
    "\n",
    "$summer = x + y$"
   ]
  },
  {
   "cell_type": "code",
   "execution_count": 9,
   "metadata": {},
   "outputs": [
    {
     "data": {
      "text/plain": [
       "20100"
      ]
     },
     "execution_count": 9,
     "metadata": {},
     "output_type": "execute_result"
    }
   ],
   "source": [
    "def summer(x,y):\n",
    "    return x+y\n",
    "\n",
    "summer(20,40)\n",
    "summer(100,20000)"
   ]
  },
  {
   "cell_type": "code",
   "execution_count": 14,
   "metadata": {},
   "outputs": [
    {
     "data": {
      "text/plain": [
       "'Hello John Kamau'"
      ]
     },
     "execution_count": 14,
     "metadata": {},
     "output_type": "execute_result"
    }
   ],
   "source": [
    "def greeter(name):\n",
    "    return f'Hello {name}'\n",
    "greeter('Karoki Gathungu')\n",
    "greeter('John Kamau')"
   ]
  },
  {
   "cell_type": "code",
   "execution_count": 17,
   "metadata": {},
   "outputs": [
    {
     "data": {
      "text/plain": [
       "'Hello Gathungu and  Kamau'"
      ]
     },
     "execution_count": 17,
     "metadata": {},
     "output_type": "execute_result"
    }
   ],
   "source": [
    "def greeter1(name1,name2):\n",
    "    return f'Hello {name1} and  {name2}'\n",
    "\n",
    "greeter1('Gathungu','Kamau')"
   ]
  },
  {
   "cell_type": "code",
   "execution_count": 21,
   "metadata": {},
   "outputs": [
    {
     "name": "stdout",
     "output_type": "stream",
     "text": [
      "Item    Number   Price\n",
      "------------------------------------------------------------\n",
      "unga   4   400\n",
      "bread   2   280\n",
      "oil   5   1250\n",
      "rice   10   2000\n",
      "------------------------------------------------------------\n",
      "Total -------------------> 3930\n"
     ]
    }
   ],
   "source": [
    "\n",
    "\n",
    "prices = {'unga':100,'rice':200,'oil':250,'bread':140}\n",
    "\n",
    "shopping_list = {'unga':4,'bread':2,'oil':5,'rice':10}\n",
    "\n",
    "def supermarket(shopping_list):\n",
    "    # we need to get the prices\n",
    "    print('Item','  ','Number ',' Price')\n",
    "    print('--'*30)\n",
    "    total =0\n",
    "    for item,number in zip(shopping_list.keys(),shopping_list.values()):\n",
    "        price = prices[item]\n",
    "        total_price = price * number\n",
    "        total +=total_price\n",
    "        print(item,' ',number,' ',total_price)\n",
    "    print('--'*30)\n",
    "    print('Total ------------------->',total)\n",
    "   \n",
    "\n",
    "supermarket(shopping_list)"
   ]
  },
  {
   "cell_type": "code",
   "execution_count": 23,
   "metadata": {},
   "outputs": [],
   "source": [
    "authors = {\n",
    "    'shakespeare':{\n",
    "        'french':['Casanova','Lovecherie'],\n",
    "        'English':['romeo and juliet','merchant of venice','Julius caesar','to whom the bell tolls']\n",
    "    },\n",
    "    'Ngugi wa thiongo':{\n",
    "        'Kikuyu':{'Murogi wa kagogo','saitani mutharabaini'},\n",
    "        'English':{'the river between','a grain of wheat','weep not child'}\n",
    "    },\n",
    "    'John Kiriamiti':{\n",
    "        'english':['my life in crime','my life with a criminal','my life in prison','son of fate']\n",
    "    }\n",
    "}\n",
    "# json"
   ]
  },
  {
   "cell_type": "code",
   "execution_count": 24,
   "metadata": {},
   "outputs": [],
   "source": [
    "# for each author list the number of their books eg shakespare (englis:3, french,2)\n",
    "# total number of authors\n",
    "# total number of english books,Kikuyu books, french books\n",
    "# print the last 2 books of john kiriamiti"
   ]
  },
  {
   "cell_type": "code",
   "execution_count": null,
   "metadata": {},
   "outputs": [],
   "source": [
    "# create a list of 5000 prices ( you can use the random function)\n",
    "\n",
    "# create a function that generates the mean of these numbers\n",
    "# create anothe function that generates the minimum and the maximu of the numbers\n",
    "#  a function that genertates the sum of the numbers\n",
    "# a function that returns the square of the list of numbers"
   ]
  }
 ],
 "metadata": {
  "kernelspec": {
   "display_name": "Python 3",
   "language": "python",
   "name": "python3"
  },
  "language_info": {
   "codemirror_mode": {
    "name": "ipython",
    "version": 3
   },
   "file_extension": ".py",
   "mimetype": "text/x-python",
   "name": "python",
   "nbconvert_exporter": "python",
   "pygments_lexer": "ipython3",
   "version": "3.10.9"
  },
  "orig_nbformat": 4
 },
 "nbformat": 4,
 "nbformat_minor": 2
}
