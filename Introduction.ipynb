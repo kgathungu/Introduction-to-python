{
 "cells": [
  {
   "cell_type": "markdown",
   "metadata": {},
   "source": [
    "Introduction to python\n",
    "* data structure\n",
    "* functions\n",
    "* control flows"
   ]
  },
  {
   "cell_type": "code",
   "execution_count": 2,
   "metadata": {},
   "outputs": [
    {
     "name": "stdout",
     "output_type": "stream",
     "text": [
      "<class 'int'>\n"
     ]
    }
   ],
   "source": [
    "x=1\n",
    "y=2\n",
    "x+y\n",
    "#1 and 2 are integers\n",
    "print(type(x))"
   ]
  },
  {
   "cell_type": "code",
   "execution_count": 1,
   "metadata": {},
   "outputs": [
    {
     "name": "stdout",
     "output_type": "stream",
     "text": [
      "42.19\n",
      "<class 'float'>\n"
     ]
    }
   ],
   "source": [
    "age=36.19\n",
    "#how:current age + 6=age in 6 years\n",
    "y=6\n",
    "age_in_6_years=age+y\n",
    "print(age_in_6_years)\n",
    "#age is a floating point\n",
    "print(type(age_in_6_years))\n"
   ]
  },
  {
   "cell_type": "code",
   "execution_count": 2,
   "metadata": {},
   "outputs": [
    {
     "name": "stdout",
     "output_type": "stream",
     "text": [
      "gathungu karoki\n",
      "<class 'str'>\n"
     ]
    }
   ],
   "source": [
    "first=\"gathungu \"\n",
    "second=\"karoki\"\n",
    "full_name=first + second\n",
    "print(full_name)\n",
    "print(type(full_name))"
   ]
  },
  {
   "cell_type": "code",
   "execution_count": 3,
   "metadata": {},
   "outputs": [
    {
     "name": "stdout",
     "output_type": "stream",
     "text": [
      "False\n",
      "<class 'bool'>\n"
     ]
    }
   ],
   "source": [
    "x=4>5\n",
    "print(x)\n",
    "print(type(x))"
   ]
  },
  {
   "cell_type": "code",
   "execution_count": 4,
   "metadata": {},
   "outputs": [
    {
     "name": "stdout",
     "output_type": "stream",
     "text": [
      "['james', 'karoki', 'jane', 'john', 'peter']\n",
      "<class 'list'>\n"
     ]
    }
   ],
   "source": [
    "names=[\"james\",\"karoki\",\"jane\",\"john\",\"peter\"]\n",
    "print(names)\n",
    "print(type(names))"
   ]
  },
  {
   "cell_type": "code",
   "execution_count": 5,
   "metadata": {},
   "outputs": [
    {
     "name": "stdout",
     "output_type": "stream",
     "text": [
      "{'name': 'gathungu', 'age': 36, 'friends': ['john', 'alice']}\n",
      "<class 'dict'>\n",
      "dict_keys(['name', 'age', 'friends'])\n",
      "dict_values(['gathungu', 36, ['john', 'alice']])\n"
     ]
    }
   ],
   "source": [
    "infor={\"name\":\"gathungu\",\n",
    "       \"age\":36,\n",
    "       \"friends\":[\"john\",\"alice\"]}\n",
    "print(infor)\n",
    "print(type(infor))\n",
    "print(infor.keys())\n",
    "print(infor.values())\n"
   ]
  },
  {
   "cell_type": "markdown",
   "metadata": {},
   "source": [
    "# <font color = \"red\"> Extracting data from the data structures</font>"
   ]
  },
  {
   "cell_type": "code",
   "execution_count": 2,
   "metadata": {},
   "outputs": [
    {
     "name": "stdout",
     "output_type": "stream",
     "text": [
      "yvonne amunga\n"
     ]
    }
   ],
   "source": [
    "name = \"yvonne amunga\" # extract data from strings,numbers etc by printing or calling\n",
    "print(name)\n"
   ]
  },
  {
   "cell_type": "code",
   "execution_count": 3,
   "metadata": {},
   "outputs": [
    {
     "data": {
      "text/plain": [
       "'yvonne amunga'"
      ]
     },
     "execution_count": 3,
     "metadata": {},
     "output_type": "execute_result"
    }
   ],
   "source": [
    "name"
   ]
  },
  {
   "cell_type": "code",
   "execution_count": 11,
   "metadata": {},
   "outputs": [
    {
     "data": {
      "text/plain": [
       "'peter'"
      ]
     },
     "execution_count": 11,
     "metadata": {},
     "output_type": "execute_result"
    }
   ],
   "source": [
    "# lists\n",
    "friends = ['john','jim',\"james\",\"karoki\",\"jane\",\"peter\"]\n",
    "# indexing\n",
    "len(friends)\n",
    "friends[3]\n",
    "# Negative index\n",
    "friends[-1]"
   ]
  },
  {
   "cell_type": "code",
   "execution_count": 10,
   "metadata": {},
   "outputs": [
    {
     "data": {
      "text/plain": [
       "['jane', 'peter']"
      ]
     },
     "execution_count": 10,
     "metadata": {},
     "output_type": "execute_result"
    }
   ],
   "source": [
    "# slicing\n",
    "friends[4:7]\n",
    "friends[4:]\n",
    "# assignment -   cretae several lists sand try indexing and slicing as much as syopu can "
   ]
  },
  {
   "cell_type": "code",
   "execution_count": 12,
   "metadata": {},
   "outputs": [
    {
     "data": {
      "text/plain": [
       "[23, 10, 21, 67]"
      ]
     },
     "execution_count": 12,
     "metadata": {},
     "output_type": "execute_result"
    }
   ],
   "source": [
    "# add lists \n",
    "[23,10] + [21 ,67]"
   ]
  },
  {
   "cell_type": "code",
   "execution_count": 13,
   "metadata": {},
   "outputs": [
    {
     "name": "stdout",
     "output_type": "stream",
     "text": [
      "['john', 'jim', 'james', 'karoki', 'jane', 'peter', 'grace']\n"
     ]
    }
   ],
   "source": [
    "# append or add to lists\n",
    "friends.append('grace')\n",
    "print(friends)"
   ]
  },
  {
   "cell_type": "code",
   "execution_count": 14,
   "metadata": {},
   "outputs": [
    {
     "name": "stdout",
     "output_type": "stream",
     "text": [
      "{'english': 98, 'maths': 12, 'science': 100}\n"
     ]
    }
   ],
   "source": [
    "# dictionaries\n",
    "marks = {'english':98,'maths':12,'science':100}\n",
    "print(marks)"
   ]
  },
  {
   "cell_type": "code",
   "execution_count": 17,
   "metadata": {},
   "outputs": [
    {
     "data": {
      "text/plain": [
       "12"
      ]
     },
     "execution_count": 17,
     "metadata": {},
     "output_type": "execute_result"
    }
   ],
   "source": [
    "# use the key to get tha value\n",
    "marks['maths']"
   ]
  },
  {
   "cell_type": "code",
   "execution_count": 16,
   "metadata": {},
   "outputs": [
    {
     "name": "stdout",
     "output_type": "stream",
     "text": [
      "{'english': 98, 'maths': 12, 'science': 100, 'Bio': 78}\n"
     ]
    }
   ],
   "source": [
    "# add more information to a dictionary\n",
    "marks['Bio'] = 78\n",
    "print(marks)"
   ]
  },
  {
   "cell_type": "code",
   "execution_count": 19,
   "metadata": {},
   "outputs": [],
   "source": [
    "# create dictionaries and lists\n",
    "# index and slice\n",
    "# append\n",
    "# add and get data from dictionaries"
   ]
  },
  {
   "cell_type": "code",
   "execution_count": 20,
   "metadata": {},
   "outputs": [
    {
     "name": "stdout",
     "output_type": "stream",
     "text": [
      "john\n",
      "jim\n",
      "james\n",
      "karoki\n",
      "jane\n",
      "peter\n",
      "grace\n"
     ]
    }
   ],
   "source": [
    "# for loop (control flows)\n",
    "for friend in friends:\n",
    "    print(friend)\n",
    "    "
   ]
  },
  {
   "cell_type": "code",
   "execution_count": null,
   "metadata": {},
   "outputs": [],
   "source": [
    "# create a list of your friends ages\n",
    "# for each friend print their age in 10 years\n",
    "# save it in anaother list\n",
    "#print the final list and slice the last 2"
   ]
  }
 ],
 "metadata": {
  "kernelspec": {
   "display_name": "Python 3",
   "language": "python",
   "name": "python3"
  },
  "language_info": {
   "codemirror_mode": {
    "name": "ipython",
    "version": 3
   },
   "file_extension": ".py",
   "mimetype": "text/x-python",
   "name": "python",
   "nbconvert_exporter": "python",
   "pygments_lexer": "ipython3",
   "version": "3.10.9"
  },
  "orig_nbformat": 4
 },
 "nbformat": 4,
 "nbformat_minor": 2
}
